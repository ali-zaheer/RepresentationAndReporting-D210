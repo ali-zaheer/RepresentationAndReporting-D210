{
 "cells": [
  {
   "cell_type": "code",
   "execution_count": 1,
   "id": "5612d8ad",
   "metadata": {},
   "outputs": [],
   "source": [
    "import pandas as pd\n",
    "import numpy as np\n",
    "import jedi\n",
    "\n",
    "# Visual libraries\n",
    "import matplotlib.pyplot as plt\n",
    "\n",
    "#Show all Columns and Rows\n",
    "pd.options.display.max_columns = None\n",
    "pd.options.display.max_rows = None\n",
    "\n",
    "# Load data set\n",
    "df = pd.read_csv('churn_clean.csv')\n",
    "\n",
    "# Amend columns with no names\n",
    "df = df.rename(columns=({ 'Item1': 'Timely_Response', 'Item2':'Timely_Fixes', 'Item3':'Timely_Replacements', \n",
    "                         'Item4':'Reliability', 'Item5':'Options', 'Item6':'Respectful_Response',\n",
    "                         'Item7':'Courteous_Exchange', 'Item8':'Evidence_of_active_listening'}))"
   ]
  },
  {
   "cell_type": "code",
   "execution_count": 2,
   "id": "9ce79b6b",
   "metadata": {},
   "outputs": [],
   "source": [
    "#Categorical to Binary\n",
    "#df['Gender'] = [1 if v == 'Male' else 0 for v in df['Gender']]\n",
    "#df['Churn'] = [1 if v == 'Yes' else 0 for v in df['Churn']]\n",
    "#df['Contract'] = ['Month-to-month' if v == 'Month-to-month' else 'Subscription' for v in df['Contract']]\n",
    "#df['StreamingTV'] = [1 if v == 'Yes' else 0 for v in df['StreamingTV']]\n",
    "#df['StreamingMovies'] = [1 if v == 'Yes' else 0 for v in df['StreamingMovies']]\n",
    "#df['OnlineSecurity'] = [1 if v == 'Yes' else 0 for v in df['OnlineSecurity']]\n",
    "#df['TechSupport'] = [1 if v == 'Yes' else 0 for v in df['TechSupport']]\n",
    "#df['OnlineSecurity'] = [1 if v == 'Yes' else 0 for v in df['OnlineSecurity']]"
   ]
  },
  {
   "cell_type": "code",
   "execution_count": 3,
   "id": "67eeb068",
   "metadata": {},
   "outputs": [],
   "source": [
    "# Prepared dataset in the root folder 'prepared_dataset.csv'\n",
    "df.to_csv('prepared_dataset.csv')"
   ]
  },
  {
   "cell_type": "code",
   "execution_count": 4,
   "id": "b3e64627",
   "metadata": {},
   "outputs": [
    {
     "data": {
      "text/plain": [
       "0          One year\n",
       "1    Month-to-month\n",
       "2          Two Year\n",
       "3          Two Year\n",
       "4    Month-to-month\n",
       "Name: Contract, dtype: object"
      ]
     },
     "execution_count": 4,
     "metadata": {},
     "output_type": "execute_result"
    }
   ],
   "source": [
    "df['Contract'].head(5)"
   ]
  },
  {
   "cell_type": "code",
   "execution_count": null,
   "id": "fa49cdc0",
   "metadata": {},
   "outputs": [],
   "source": []
  },
  {
   "cell_type": "code",
   "execution_count": null,
   "id": "2b3ffc4b",
   "metadata": {},
   "outputs": [],
   "source": []
  }
 ],
 "metadata": {
  "kernelspec": {
   "display_name": "Python 3 (ipykernel)",
   "language": "python",
   "name": "python3"
  },
  "language_info": {
   "codemirror_mode": {
    "name": "ipython",
    "version": 3
   },
   "file_extension": ".py",
   "mimetype": "text/x-python",
   "name": "python",
   "nbconvert_exporter": "python",
   "pygments_lexer": "ipython3",
   "version": "3.9.7"
  }
 },
 "nbformat": 4,
 "nbformat_minor": 5
}
